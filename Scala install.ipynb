{
 "cells": [
  {
   "cell_type": "code",
   "execution_count": 1,
   "metadata": {},
   "outputs": [
    {
     "name": "stdout",
     "output_type": "stream",
     "text": [
      "deb https://dl.bintray.com/sbt/debian /\n",
      "N: Ignoring file '50unattended-upgrades.ucf-old' in directory '/etc/apt/apt.conf.d/' as it has an invalid filename extension\n",
      "N: Ignoring file '50unattended-upgrades.ucf-old' in directory '/etc/apt/apt.conf.d/' as it has an invalid filename extension\n",
      "N: Ignoring file '50unattended-upgrades.ucf-old' in directory '/etc/apt/apt.conf.d/' as it has an invalid filename extension\n",
      "N: Ignoring file '50unattended-upgrades.ucf-old' in directory '/etc/apt/apt.conf.d/' as it has an invalid filename extension\n",
      "N: Ignoring file '50unattended-upgrades.ucf-old' in directory '/etc/apt/apt.conf.d/' as it has an invalid filename extension\n",
      "N: Ignoring file '50unattended-upgrades.ucf-old' in directory '/etc/apt/apt.conf.d/' as it has an invalid filename extension\n",
      "N: Ignoring file '50unattended-upgrades.ucf-old' in directory '/etc/apt/apt.conf.d/' as it has an invalid filename extension\n",
      "N: Ignoring file '50unattended-upgrades.ucf-old' in directory '/etc/apt/apt.conf.d/' as it has an invalid filename extension\n",
      "Executing: /tmp/tmp.dsBjVH767O/gpg.1.sh --keyserver\n",
      "hkp://keyserver.ubuntu.com:80\n",
      "--recv\n",
      "2EE0EA64E40A89B84B2DF73499E82A75642AC823\n",
      "gpg: requesting key 642AC823 from hkp server keyserver.ubuntu.com\n",
      "gpg: key 642AC823: public key \"sbt build tool <scalasbt@gmail.com>\" imported\n",
      "gpg: Total number processed: 1\n",
      "gpg:               imported: 1  (RSA: 1)\n",
      "N: Ignoring file '50unattended-upgrades.ucf-old' in directory '/etc/apt/apt.conf.d/' as it has an invalid filename extension\n",
      "N: Ignoring file '50unattended-upgrades.ucf-old' in directory '/etc/apt/apt.conf.d/' as it has an invalid filename extension\n",
      "Hit:1 http://us-east-2.ec2.archive.ubuntu.com/ubuntu xenial InRelease\n",
      "Hit:2 http://us-east-2.ec2.archive.ubuntu.com/ubuntu xenial-updates InRelease\n",
      "Hit:3 http://us-east-2.ec2.archive.ubuntu.com/ubuntu xenial-backports InRelease\n",
      "Hit:4 http://security.ubuntu.com/ubuntu xenial-security InRelease              \n",
      "Hit:5 https://packages.cloud.google.com/apt cloud-sdk-xenial InRelease\n",
      "Ign:6 https://dl.bintray.com/sbt/debian  InRelease\n",
      "Get:7 https://dl.bintray.com/sbt/debian  Release [814 B]\n",
      "Get:8 https://dl.bintray.com/sbt/debian  Release.gpg [821 B]\n",
      "Get:9 https://dl.bintray.com/sbt/debian  Packages [1,933 B]\n",
      "Fetched 3,568 B in 1s (2,967 B/s)\n",
      "Reading package lists... Done\n",
      "N: Ignoring file '50unattended-upgrades.ucf-old' in directory '/etc/apt/apt.conf.d/' as it has an invalid filename extension\n",
      "Reading package lists... Done\n",
      "Building dependency tree       \n",
      "Reading state information... Done\n",
      "The following package was automatically installed and is no longer required:\n",
      "  snap-confine\n",
      "Use 'sudo apt autoremove' to remove it.\n",
      "The following NEW packages will be installed:\n",
      "  sbt\n",
      "0 upgraded, 1 newly installed, 0 to remove and 8 not upgraded.\n",
      "Need to get 1,251 kB of archives.\n",
      "After this operation, 1,235 kB of additional disk space will be used.\n",
      "Get:1 https://dl.bintray.com/sbt/debian  sbt 0.13.15.3 [1,251 kB]\n",
      "Fetched 1,251 kB in 0s (2,214 kB/s)\n",
      "N: Ignoring file '50unattended-upgrades.ucf-old' in directory '/etc/apt/apt.conf.d/' as it has an invalid filename extension\n",
      "Selecting previously unselected package sbt.\n",
      "(Reading database ... 115919 files and directories currently installed.)\n",
      "Preparing to unpack .../archives/sbt_0.13.15.3_all.deb ...\n",
      "Unpacking sbt (0.13.15.3) ...\n",
      "Processing triggers for man-db (2.7.5-1) ...\n",
      "Setting up sbt (0.13.15.3) ...\n",
      "Creating system group: sbt\n",
      "Creating system user: sbt in sbt with sbt daemon-user and shell /bin/false\n",
      "/usr/share/sbt/bin/sbt-launch-lib.bash: line 73: java: command not found\n",
      "dpkg: error processing package sbt (--configure):\n",
      " subprocess installed post-installation script returned error exit status 127\n",
      "N: Ignoring file '50unattended-upgrades.ucf-old' in directory '/etc/apt/apt.conf.d/' as it has an invalid filename extension\n",
      "E: Sub-process /usr/bin/dpkg returned an error code (1)\n"
     ]
    }
   ],
   "source": [
    "!echo \"deb https://dl.bintray.com/sbt/debian /\" | sudo tee -a /etc/apt/sources.list.d/sbt.list\n",
    "!sudo apt-key adv --keyserver hkp://keyserver.ubuntu.com:80 --recv 2EE0EA64E40A89B84B2DF73499E82A75642AC823\n",
    "!sudo apt-get update\n",
    "!sudo apt-get install sbt"
   ]
  }
 ],
 "metadata": {
  "kernelspec": {
   "display_name": "Python 2",
   "language": "python",
   "name": "python2"
  },
  "language_info": {
   "codemirror_mode": {
    "name": "ipython",
    "version": 2
   },
   "file_extension": ".py",
   "mimetype": "text/x-python",
   "name": "python",
   "nbconvert_exporter": "python",
   "pygments_lexer": "ipython2",
   "version": "2.7.13"
  }
 },
 "nbformat": 4,
 "nbformat_minor": 2
}
