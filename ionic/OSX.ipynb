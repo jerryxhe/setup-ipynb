{
 "cells": [
  {
   "cell_type": "code",
   "execution_count": null,
   "metadata": {
    "collapsed": true
   },
   "outputs": [],
   "source": [
    "!brew install maven"
   ]
  },
  {
   "cell_type": "code",
   "execution_count": null,
   "metadata": {
    "collapsed": true
   },
   "outputs": [],
   "source": [
    "!brew install gradle"
   ]
  },
  {
   "cell_type": "code",
   "execution_count": 2,
   "metadata": {
    "collapsed": true
   },
   "outputs": [],
   "source": [
    "!brew tap caskroom/cask"
   ]
  },
  {
   "cell_type": "code",
   "execution_count": 4,
   "metadata": {
    "collapsed": false
   },
   "outputs": [
    {
     "name": "stdout",
     "output_type": "stream",
     "text": [
      "\u001b[34m==>\u001b[0m \u001b[1mCaveats\u001b[0m\n",
      "We will install android-sdk-tools, platform-tools, and build-tools for you.\n",
      "You can control android sdk packages via the sdkmanager command.\n",
      "You may want to add to your profile:\n",
      "  'export ANDROID_SDK_ROOT=/usr/local/share/android-sdk'\n",
      "\n",
      "This operation may take up to 10 minutes depending on your internet connection.\n",
      "Please, be patient.\n",
      "\n",
      "\u001b[34m==>\u001b[0m \u001b[1mSatisfying dependencies\u001b[0m\n",
      "\u001b[34m==>\u001b[0m \u001b[1mDownloading https://dl.google.com/android/repository/sdk-tools-darwin-385939\u001b[0m\n",
      "######################################################################## 100.0%                                                   31.4%#####################                                     51.7%3.8%\n",
      "\u001b[34m==>\u001b[0m \u001b[1mVerifying checksum for Cask android-sdk\u001b[0m\n",
      "\u001b[32m==>\u001b[0m \u001b[1mInstalling Cask android-sdk\u001b[0m\n",
      "\u001b[34m==>\u001b[0m \u001b[1mWarning: File /Users/jerryhe/.android/repositories.cfg could not be loaded.\u001b[0m\n",
      "\u001b[34m==>\u001b[0m \u001b[1mLinking Binary 'aapt' to '/usr/local/bin/aapt'.\u001b[0m\n",
      "\u001b[34m==>\u001b[0m \u001b[1mLinking Binary 'aapt2' to '/usr/local/bin/aapt2'.\u001b[0m\n",
      "\u001b[34m==>\u001b[0m \u001b[1mLinking Binary 'aarch64-linux-android-ld' to '/usr/local/bin/aarch64-linux-a\u001b[0m\n",
      "\u001b[34m==>\u001b[0m \u001b[1mLinking Binary 'aidl' to '/usr/local/bin/aidl'.\u001b[0m\n",
      "\u001b[34m==>\u001b[0m \u001b[1mLinking Binary 'arm-linux-androideabi-ld' to '/usr/local/bin/arm-linux-andro\u001b[0m\n",
      "\u001b[34m==>\u001b[0m \u001b[1mLinking Binary 'bcc_compat' to '/usr/local/bin/bcc_compat'.\u001b[0m\n",
      "\u001b[34m==>\u001b[0m \u001b[1mLinking Binary 'dexdump' to '/usr/local/bin/dexdump'.\u001b[0m\n",
      "\u001b[34m==>\u001b[0m \u001b[1mLinking Binary 'dx' to '/usr/local/bin/dx'.\u001b[0m\n",
      "\u001b[34m==>\u001b[0m \u001b[1mLinking Binary 'i686-linux-android-ld' to '/usr/local/bin/i686-linux-android\u001b[0m\n",
      "\u001b[34m==>\u001b[0m \u001b[1mLinking Binary 'llvm-rs-cc' to '/usr/local/bin/llvm-rs-cc'.\u001b[0m\n",
      "\u001b[34m==>\u001b[0m \u001b[1mLinking Binary 'mainDexClasses' to '/usr/local/bin/mainDexClasses'.\u001b[0m\n",
      "\u001b[34m==>\u001b[0m \u001b[1mLinking Binary 'mipsel-linux-android-ld' to '/usr/local/bin/mipsel-linux-and\u001b[0m\n",
      "\u001b[34m==>\u001b[0m \u001b[1mLinking Binary 'split-select' to '/usr/local/bin/split-select'.\u001b[0m\n",
      "\u001b[34m==>\u001b[0m \u001b[1mLinking Binary 'x86_64-linux-android-ld' to '/usr/local/bin/x86_64-linux-and\u001b[0m\n",
      "\u001b[34m==>\u001b[0m \u001b[1mLinking Binary 'zipalign' to '/usr/local/bin/zipalign'.\u001b[0m\n",
      "\u001b[34m==>\u001b[0m \u001b[1mLinking Binary 'e2fsck' to '/usr/local/bin/e2fsck'.\u001b[0m\n",
      "\u001b[34m==>\u001b[0m \u001b[1mLinking Binary 'fsck.ext4' to '/usr/local/bin/fsck.ext4'.\u001b[0m\n",
      "\u001b[34m==>\u001b[0m \u001b[1mLinking Binary 'mkfs.ext4' to '/usr/local/bin/mkfs.ext4'.\u001b[0m\n",
      "\u001b[34m==>\u001b[0m \u001b[1mLinking Binary 'resize2fs' to '/usr/local/bin/resize2fs'.\u001b[0m\n",
      "\u001b[34m==>\u001b[0m \u001b[1mLinking Binary 'tune2fs' to '/usr/local/bin/tune2fs'.\u001b[0m\n",
      "\u001b[34m==>\u001b[0m \u001b[1mLinking Binary 'emulator' to '/usr/local/bin/emulator'.\u001b[0m\n",
      "\u001b[34m==>\u001b[0m \u001b[1mLinking Binary 'emulator-check' to '/usr/local/bin/emulator-check'.\u001b[0m\n",
      "\u001b[34m==>\u001b[0m \u001b[1mLinking Binary 'emulator64-arm' to '/usr/local/bin/emulator64-arm'.\u001b[0m\n",
      "\u001b[34m==>\u001b[0m \u001b[1mLinking Binary 'emulator64-crash-service' to '/usr/local/bin/emulator64-cras\u001b[0m\n",
      "\u001b[34m==>\u001b[0m \u001b[1mLinking Binary 'emulator64-mips' to '/usr/local/bin/emulator64-mips'.\u001b[0m\n",
      "\u001b[34m==>\u001b[0m \u001b[1mLinking Binary 'emulator64-x86' to '/usr/local/bin/emulator64-x86'.\u001b[0m\n",
      "\u001b[34m==>\u001b[0m \u001b[1mLinking Binary 'mksdcard' to '/usr/local/bin/mksdcard'.\u001b[0m\n",
      "\u001b[34m==>\u001b[0m \u001b[1mLinking Binary 'adb' to '/usr/local/bin/adb'.\u001b[0m\n",
      "\u001b[34m==>\u001b[0m \u001b[1mLinking Binary 'dmtracedump' to '/usr/local/bin/dmtracedump'.\u001b[0m\n",
      "\u001b[34m==>\u001b[0m \u001b[1mLinking Binary 'etc1tool' to '/usr/local/bin/etc1tool'.\u001b[0m\n",
      "\u001b[34m==>\u001b[0m \u001b[1mLinking Binary 'fastboot' to '/usr/local/bin/fastboot'.\u001b[0m\n",
      "\u001b[34m==>\u001b[0m \u001b[1mLinking Binary 'hprof-conv' to '/usr/local/bin/hprof-conv'.\u001b[0m\n",
      "\u001b[34m==>\u001b[0m \u001b[1mLinking Binary 'systrace.py' to '/usr/local/bin/systrace.py'.\u001b[0m\n",
      "\u001b[34m==>\u001b[0m \u001b[1mLinking Binary 'android' to '/usr/local/bin/android'.\u001b[0m\n",
      "\u001b[34m==>\u001b[0m \u001b[1mLinking Binary 'archquery' to '/usr/local/bin/archquery'.\u001b[0m\n",
      "\u001b[34m==>\u001b[0m \u001b[1mLinking Binary 'avdmanager' to '/usr/local/bin/avdmanager'.\u001b[0m\n",
      "\u001b[34m==>\u001b[0m \u001b[1mLinking Binary 'jobb' to '/usr/local/bin/jobb'.\u001b[0m\n",
      "\u001b[34m==>\u001b[0m \u001b[1mLinking Binary 'lint' to '/usr/local/bin/lint'.\u001b[0m\n",
      "\u001b[34m==>\u001b[0m \u001b[1mLinking Binary 'monkeyrunner' to '/usr/local/bin/monkeyrunner'.\u001b[0m\n",
      "\u001b[34m==>\u001b[0m \u001b[1mLinking Binary 'screenshot2' to '/usr/local/bin/screenshot2'.\u001b[0m\n",
      "\u001b[34m==>\u001b[0m \u001b[1mLinking Binary 'sdkmanager' to '/usr/local/bin/sdkmanager'.\u001b[0m\n",
      "\u001b[34m==>\u001b[0m \u001b[1mLinking Binary 'uiautomatorviewer' to '/usr/local/bin/uiautomatorviewer'.\u001b[0m\n",
      "\u001b[34m==>\u001b[0m \u001b[1mLinking Binary 'mksdcard' to '/usr/local/bin/mksdcard'.\u001b[0m\n",
      "\u001b[34m==>\u001b[0m \u001b[1mLinking Binary 'monitor' to '/usr/local/bin/monitor'.\u001b[0m\n",
      "🍺  android-sdk was successfully installed!\n",
      "\u001b[34m==>\u001b[0m \u001b[1mCaveats\u001b[0m\n",
      "You may want to add to your profile:\n",
      "   'export ANDROID_NDK_HOME=\"/usr/local/share/android-ndk\"'\n",
      "\n",
      "\u001b[34m==>\u001b[0m \u001b[1mSatisfying dependencies\u001b[0m\n",
      "\u001b[34m==>\u001b[0m \u001b[1mDownloading https://dl.google.com/android/repository/android-ndk-r15c-darwin\u001b[0m\n",
      "######################################################################## 100.0%                             0.8%                        3.0%                                                             4.2%                                         4.7%                                  8.0%                                            12.4%                              15.0%                                16.7% 17.5%                                  18.1%   20.5%               26.1% 35.5%                                      35.5%                         36.3%36.8%                                       40.9%                                            41.7%                                46.8%#                                        47.3%                            47.8%          49.2%###########                                     52.2%                                    53.7%#########                                   54.3%               59.8%                           60.6%####                              61.6%4%###############                            64.7%         71.7%            73.8%###############                   76.4%##                 80.2%#####################                80.9%#########                81.5%#################               82.7%#############################           87.8%###############################          89.9%########################       94.1%.1%\n",
      "\u001b[34m==>\u001b[0m \u001b[1mVerifying checksum for Cask android-ndk\u001b[0m\n",
      "\u001b[32m==>\u001b[0m \u001b[1mInstalling Cask android-ndk\u001b[0m\n",
      "\u001b[34m==>\u001b[0m \u001b[1mLinking Binary 'ndk_exec.sh' to '/usr/local/bin/ndk-build'.\u001b[0m\n",
      "\u001b[34m==>\u001b[0m \u001b[1mLinking Binary 'ndk_exec.sh' to '/usr/local/bin/ndk-depends'.\u001b[0m\n",
      "\u001b[34m==>\u001b[0m \u001b[1mLinking Binary 'ndk_exec.sh' to '/usr/local/bin/ndk-gdb'.\u001b[0m\n",
      "\u001b[34m==>\u001b[0m \u001b[1mLinking Binary 'ndk_exec.sh' to '/usr/local/bin/ndk-stack'.\u001b[0m\n",
      "\u001b[34m==>\u001b[0m \u001b[1mLinking Binary 'ndk_exec.sh' to '/usr/local/bin/ndk-which'.\u001b[0m\n",
      "🍺  android-ndk was successfully installed!\n"
     ]
    }
   ],
   "source": [
    "!brew cask install android-sdk\n",
    "!brew cask install android-ndk"
   ]
  },
  {
   "cell_type": "code",
   "execution_count": 1,
   "metadata": {
    "collapsed": false
   },
   "outputs": [
    {
     "name": "stdout",
     "output_type": "stream",
     "text": [
      "Password:\n"
     ]
    }
   ],
   "source": [
    "!sudo npm install -g ionic cordova"
   ]
  }
 ],
 "metadata": {
  "kernelspec": {
   "display_name": "Python 2",
   "language": "python",
   "name": "python2"
  },
  "language_info": {
   "codemirror_mode": {
    "name": "ipython",
    "version": 2
   },
   "file_extension": ".py",
   "mimetype": "text/x-python",
   "name": "python",
   "nbconvert_exporter": "python",
   "pygments_lexer": "ipython2",
   "version": "2.7.13"
  }
 },
 "nbformat": 4,
 "nbformat_minor": 2
}
